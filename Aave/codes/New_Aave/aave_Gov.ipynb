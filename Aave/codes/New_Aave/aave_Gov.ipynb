{
 "cells": [
  {
   "cell_type": "code",
   "execution_count": 25,
   "metadata": {},
   "outputs": [
    {
     "name": "stdout",
     "output_type": "stream",
     "text": [
      "                                        Address  Total Proposals  Score\n",
      "0    0xc290Cfb8D020c0615e9C63036f4319Cc41717E68               55    100\n",
      "1    0x329c54289Ff5D6B7b7daE13592C6B1EDA1543eD4               50    100\n",
      "2    0xDD659911EcBD4458db07Ee7cDdeC79bf8F859AbC               34    100\n",
      "3    0x16645967f660AC05EA542D3DE2f46E41b86436d9               19    100\n",
      "4    0x62a43123FE71f9764f26554b3F5017627996816a               12    100\n",
      "..                                          ...              ...    ...\n",
      "109  0x89261103FA88a913c8D0dEbD00574FD16895407D                1     55\n",
      "110  0x9f856fC3e2ea6D2ef7b1f030D4A8BF34556eAc5d                1     55\n",
      "111  0xe965484BA4250c446779D4703f1598DC2EA00d12                1     55\n",
      "112  0xa48168C3D73De7B4Fed96383E2BeF8e53443A263                1     55\n",
      "113  0xc8E0345596D7196941E61D3aB607E57Fe61F85E7                1     55\n",
      "\n",
      "[114 rows x 3 columns]\n"
     ]
    }
   ],
   "source": [
    "import json\n",
    "import pandas as pd\n",
    "with open('./totalProposalsMadeByUser.json', 'r') as json_file:\n",
    "    data = json.load(json_file)\n",
    "intervals = [0, 1, 10]\n",
    "scores = [0, 55, 100]\n",
    "def calculate_score(total_proposals):\n",
    "    for i in range(len(intervals)):\n",
    "        if total_proposals <= intervals[i]:\n",
    "            return scores[i]\n",
    "    return scores[-1]\n",
    "addresses = []\n",
    "total_proposals_list = []\n",
    "scores_list = []\n",
    "for address, total_proposals in data.items():\n",
    "    addresses.append(address)\n",
    "    total_proposals_list.append(total_proposals)\n",
    "    score = calculate_score(total_proposals)\n",
    "    scores_list.append(score)\n",
    "data_model_df = pd.DataFrame({\n",
    "    'Address': addresses,\n",
    "    'Total Proposals': total_proposals_list,\n",
    "    'Score': scores_list\n",
    "})\n",
    "print(data_model_df)\n"
   ]
  },
  {
   "cell_type": "code",
   "execution_count": 26,
   "metadata": {},
   "outputs": [
    {
     "data": {
      "text/plain": [
       "55     86\n",
       "100    28\n",
       "Name: Score, dtype: int64"
      ]
     },
     "execution_count": 26,
     "metadata": {},
     "output_type": "execute_result"
    }
   ],
   "source": [
    "data_model_df['Score'].value_counts()"
   ]
  },
  {
   "cell_type": "code",
   "execution_count": 24,
   "metadata": {},
   "outputs": [
    {
     "data": {
      "application/vnd.plotly.v1+json": {
       "config": {
        "plotlyServerURL": "https://plot.ly"
       },
       "data": [
        {
         "alignmentgroup": "True",
         "bingroup": "x",
         "hovertemplate": "Score=%{x}<br>count=%{y}<extra></extra>",
         "legendgroup": "",
         "marker": {
          "color": "#636efa",
          "pattern": {
           "shape": ""
          }
         },
         "name": "",
         "nbinsx": 10,
         "offsetgroup": "",
         "orientation": "v",
         "showlegend": false,
         "type": "histogram",
         "x": [
          100,
          100,
          100,
          100,
          100,
          100,
          100,
          100,
          100,
          100,
          100,
          100,
          100,
          100,
          100,
          100,
          100,
          100,
          100,
          100,
          100,
          100,
          100,
          100,
          100,
          100,
          100,
          100,
          55,
          55,
          55,
          55,
          55,
          55,
          55,
          55,
          55,
          55,
          55,
          55,
          55,
          55,
          55,
          55,
          55,
          55,
          55,
          55,
          55,
          55,
          55,
          55,
          55,
          55,
          55,
          55,
          55,
          55,
          55,
          55,
          55,
          55,
          55,
          55,
          55,
          55,
          55,
          55,
          55,
          55,
          55,
          55,
          55,
          55,
          55,
          55,
          55,
          55,
          55,
          55,
          55,
          55,
          55,
          55,
          55,
          55,
          55,
          55,
          55,
          55,
          55,
          55,
          55,
          55,
          55,
          55,
          55,
          55,
          55,
          55,
          55,
          55,
          55,
          55,
          55,
          55,
          55,
          55,
          55,
          55,
          55,
          55,
          55,
          55
         ],
         "xaxis": "x",
         "yaxis": "y"
        }
       ],
       "layout": {
        "barmode": "relative",
        "legend": {
         "tracegroupgap": 0
        },
        "template": {
         "data": {
          "bar": [
           {
            "error_x": {
             "color": "#2a3f5f"
            },
            "error_y": {
             "color": "#2a3f5f"
            },
            "marker": {
             "line": {
              "color": "#E5ECF6",
              "width": 0.5
             },
             "pattern": {
              "fillmode": "overlay",
              "size": 10,
              "solidity": 0.2
             }
            },
            "type": "bar"
           }
          ],
          "barpolar": [
           {
            "marker": {
             "line": {
              "color": "#E5ECF6",
              "width": 0.5
             },
             "pattern": {
              "fillmode": "overlay",
              "size": 10,
              "solidity": 0.2
             }
            },
            "type": "barpolar"
           }
          ],
          "carpet": [
           {
            "aaxis": {
             "endlinecolor": "#2a3f5f",
             "gridcolor": "white",
             "linecolor": "white",
             "minorgridcolor": "white",
             "startlinecolor": "#2a3f5f"
            },
            "baxis": {
             "endlinecolor": "#2a3f5f",
             "gridcolor": "white",
             "linecolor": "white",
             "minorgridcolor": "white",
             "startlinecolor": "#2a3f5f"
            },
            "type": "carpet"
           }
          ],
          "choropleth": [
           {
            "colorbar": {
             "outlinewidth": 0,
             "ticks": ""
            },
            "type": "choropleth"
           }
          ],
          "contour": [
           {
            "colorbar": {
             "outlinewidth": 0,
             "ticks": ""
            },
            "colorscale": [
             [
              0,
              "#0d0887"
             ],
             [
              0.1111111111111111,
              "#46039f"
             ],
             [
              0.2222222222222222,
              "#7201a8"
             ],
             [
              0.3333333333333333,
              "#9c179e"
             ],
             [
              0.4444444444444444,
              "#bd3786"
             ],
             [
              0.5555555555555556,
              "#d8576b"
             ],
             [
              0.6666666666666666,
              "#ed7953"
             ],
             [
              0.7777777777777778,
              "#fb9f3a"
             ],
             [
              0.8888888888888888,
              "#fdca26"
             ],
             [
              1,
              "#f0f921"
             ]
            ],
            "type": "contour"
           }
          ],
          "contourcarpet": [
           {
            "colorbar": {
             "outlinewidth": 0,
             "ticks": ""
            },
            "type": "contourcarpet"
           }
          ],
          "heatmap": [
           {
            "colorbar": {
             "outlinewidth": 0,
             "ticks": ""
            },
            "colorscale": [
             [
              0,
              "#0d0887"
             ],
             [
              0.1111111111111111,
              "#46039f"
             ],
             [
              0.2222222222222222,
              "#7201a8"
             ],
             [
              0.3333333333333333,
              "#9c179e"
             ],
             [
              0.4444444444444444,
              "#bd3786"
             ],
             [
              0.5555555555555556,
              "#d8576b"
             ],
             [
              0.6666666666666666,
              "#ed7953"
             ],
             [
              0.7777777777777778,
              "#fb9f3a"
             ],
             [
              0.8888888888888888,
              "#fdca26"
             ],
             [
              1,
              "#f0f921"
             ]
            ],
            "type": "heatmap"
           }
          ],
          "heatmapgl": [
           {
            "colorbar": {
             "outlinewidth": 0,
             "ticks": ""
            },
            "colorscale": [
             [
              0,
              "#0d0887"
             ],
             [
              0.1111111111111111,
              "#46039f"
             ],
             [
              0.2222222222222222,
              "#7201a8"
             ],
             [
              0.3333333333333333,
              "#9c179e"
             ],
             [
              0.4444444444444444,
              "#bd3786"
             ],
             [
              0.5555555555555556,
              "#d8576b"
             ],
             [
              0.6666666666666666,
              "#ed7953"
             ],
             [
              0.7777777777777778,
              "#fb9f3a"
             ],
             [
              0.8888888888888888,
              "#fdca26"
             ],
             [
              1,
              "#f0f921"
             ]
            ],
            "type": "heatmapgl"
           }
          ],
          "histogram": [
           {
            "marker": {
             "pattern": {
              "fillmode": "overlay",
              "size": 10,
              "solidity": 0.2
             }
            },
            "type": "histogram"
           }
          ],
          "histogram2d": [
           {
            "colorbar": {
             "outlinewidth": 0,
             "ticks": ""
            },
            "colorscale": [
             [
              0,
              "#0d0887"
             ],
             [
              0.1111111111111111,
              "#46039f"
             ],
             [
              0.2222222222222222,
              "#7201a8"
             ],
             [
              0.3333333333333333,
              "#9c179e"
             ],
             [
              0.4444444444444444,
              "#bd3786"
             ],
             [
              0.5555555555555556,
              "#d8576b"
             ],
             [
              0.6666666666666666,
              "#ed7953"
             ],
             [
              0.7777777777777778,
              "#fb9f3a"
             ],
             [
              0.8888888888888888,
              "#fdca26"
             ],
             [
              1,
              "#f0f921"
             ]
            ],
            "type": "histogram2d"
           }
          ],
          "histogram2dcontour": [
           {
            "colorbar": {
             "outlinewidth": 0,
             "ticks": ""
            },
            "colorscale": [
             [
              0,
              "#0d0887"
             ],
             [
              0.1111111111111111,
              "#46039f"
             ],
             [
              0.2222222222222222,
              "#7201a8"
             ],
             [
              0.3333333333333333,
              "#9c179e"
             ],
             [
              0.4444444444444444,
              "#bd3786"
             ],
             [
              0.5555555555555556,
              "#d8576b"
             ],
             [
              0.6666666666666666,
              "#ed7953"
             ],
             [
              0.7777777777777778,
              "#fb9f3a"
             ],
             [
              0.8888888888888888,
              "#fdca26"
             ],
             [
              1,
              "#f0f921"
             ]
            ],
            "type": "histogram2dcontour"
           }
          ],
          "mesh3d": [
           {
            "colorbar": {
             "outlinewidth": 0,
             "ticks": ""
            },
            "type": "mesh3d"
           }
          ],
          "parcoords": [
           {
            "line": {
             "colorbar": {
              "outlinewidth": 0,
              "ticks": ""
             }
            },
            "type": "parcoords"
           }
          ],
          "pie": [
           {
            "automargin": true,
            "type": "pie"
           }
          ],
          "scatter": [
           {
            "fillpattern": {
             "fillmode": "overlay",
             "size": 10,
             "solidity": 0.2
            },
            "type": "scatter"
           }
          ],
          "scatter3d": [
           {
            "line": {
             "colorbar": {
              "outlinewidth": 0,
              "ticks": ""
             }
            },
            "marker": {
             "colorbar": {
              "outlinewidth": 0,
              "ticks": ""
             }
            },
            "type": "scatter3d"
           }
          ],
          "scattercarpet": [
           {
            "marker": {
             "colorbar": {
              "outlinewidth": 0,
              "ticks": ""
             }
            },
            "type": "scattercarpet"
           }
          ],
          "scattergeo": [
           {
            "marker": {
             "colorbar": {
              "outlinewidth": 0,
              "ticks": ""
             }
            },
            "type": "scattergeo"
           }
          ],
          "scattergl": [
           {
            "marker": {
             "colorbar": {
              "outlinewidth": 0,
              "ticks": ""
             }
            },
            "type": "scattergl"
           }
          ],
          "scattermapbox": [
           {
            "marker": {
             "colorbar": {
              "outlinewidth": 0,
              "ticks": ""
             }
            },
            "type": "scattermapbox"
           }
          ],
          "scatterpolar": [
           {
            "marker": {
             "colorbar": {
              "outlinewidth": 0,
              "ticks": ""
             }
            },
            "type": "scatterpolar"
           }
          ],
          "scatterpolargl": [
           {
            "marker": {
             "colorbar": {
              "outlinewidth": 0,
              "ticks": ""
             }
            },
            "type": "scatterpolargl"
           }
          ],
          "scatterternary": [
           {
            "marker": {
             "colorbar": {
              "outlinewidth": 0,
              "ticks": ""
             }
            },
            "type": "scatterternary"
           }
          ],
          "surface": [
           {
            "colorbar": {
             "outlinewidth": 0,
             "ticks": ""
            },
            "colorscale": [
             [
              0,
              "#0d0887"
             ],
             [
              0.1111111111111111,
              "#46039f"
             ],
             [
              0.2222222222222222,
              "#7201a8"
             ],
             [
              0.3333333333333333,
              "#9c179e"
             ],
             [
              0.4444444444444444,
              "#bd3786"
             ],
             [
              0.5555555555555556,
              "#d8576b"
             ],
             [
              0.6666666666666666,
              "#ed7953"
             ],
             [
              0.7777777777777778,
              "#fb9f3a"
             ],
             [
              0.8888888888888888,
              "#fdca26"
             ],
             [
              1,
              "#f0f921"
             ]
            ],
            "type": "surface"
           }
          ],
          "table": [
           {
            "cells": {
             "fill": {
              "color": "#EBF0F8"
             },
             "line": {
              "color": "white"
             }
            },
            "header": {
             "fill": {
              "color": "#C8D4E3"
             },
             "line": {
              "color": "white"
             }
            },
            "type": "table"
           }
          ]
         },
         "layout": {
          "annotationdefaults": {
           "arrowcolor": "#2a3f5f",
           "arrowhead": 0,
           "arrowwidth": 1
          },
          "autotypenumbers": "strict",
          "coloraxis": {
           "colorbar": {
            "outlinewidth": 0,
            "ticks": ""
           }
          },
          "colorscale": {
           "diverging": [
            [
             0,
             "#8e0152"
            ],
            [
             0.1,
             "#c51b7d"
            ],
            [
             0.2,
             "#de77ae"
            ],
            [
             0.3,
             "#f1b6da"
            ],
            [
             0.4,
             "#fde0ef"
            ],
            [
             0.5,
             "#f7f7f7"
            ],
            [
             0.6,
             "#e6f5d0"
            ],
            [
             0.7,
             "#b8e186"
            ],
            [
             0.8,
             "#7fbc41"
            ],
            [
             0.9,
             "#4d9221"
            ],
            [
             1,
             "#276419"
            ]
           ],
           "sequential": [
            [
             0,
             "#0d0887"
            ],
            [
             0.1111111111111111,
             "#46039f"
            ],
            [
             0.2222222222222222,
             "#7201a8"
            ],
            [
             0.3333333333333333,
             "#9c179e"
            ],
            [
             0.4444444444444444,
             "#bd3786"
            ],
            [
             0.5555555555555556,
             "#d8576b"
            ],
            [
             0.6666666666666666,
             "#ed7953"
            ],
            [
             0.7777777777777778,
             "#fb9f3a"
            ],
            [
             0.8888888888888888,
             "#fdca26"
            ],
            [
             1,
             "#f0f921"
            ]
           ],
           "sequentialminus": [
            [
             0,
             "#0d0887"
            ],
            [
             0.1111111111111111,
             "#46039f"
            ],
            [
             0.2222222222222222,
             "#7201a8"
            ],
            [
             0.3333333333333333,
             "#9c179e"
            ],
            [
             0.4444444444444444,
             "#bd3786"
            ],
            [
             0.5555555555555556,
             "#d8576b"
            ],
            [
             0.6666666666666666,
             "#ed7953"
            ],
            [
             0.7777777777777778,
             "#fb9f3a"
            ],
            [
             0.8888888888888888,
             "#fdca26"
            ],
            [
             1,
             "#f0f921"
            ]
           ]
          },
          "colorway": [
           "#636efa",
           "#EF553B",
           "#00cc96",
           "#ab63fa",
           "#FFA15A",
           "#19d3f3",
           "#FF6692",
           "#B6E880",
           "#FF97FF",
           "#FECB52"
          ],
          "font": {
           "color": "#2a3f5f"
          },
          "geo": {
           "bgcolor": "white",
           "lakecolor": "white",
           "landcolor": "#E5ECF6",
           "showlakes": true,
           "showland": true,
           "subunitcolor": "white"
          },
          "hoverlabel": {
           "align": "left"
          },
          "hovermode": "closest",
          "mapbox": {
           "style": "light"
          },
          "paper_bgcolor": "white",
          "plot_bgcolor": "#E5ECF6",
          "polar": {
           "angularaxis": {
            "gridcolor": "white",
            "linecolor": "white",
            "ticks": ""
           },
           "bgcolor": "#E5ECF6",
           "radialaxis": {
            "gridcolor": "white",
            "linecolor": "white",
            "ticks": ""
           }
          },
          "scene": {
           "xaxis": {
            "backgroundcolor": "#E5ECF6",
            "gridcolor": "white",
            "gridwidth": 2,
            "linecolor": "white",
            "showbackground": true,
            "ticks": "",
            "zerolinecolor": "white"
           },
           "yaxis": {
            "backgroundcolor": "#E5ECF6",
            "gridcolor": "white",
            "gridwidth": 2,
            "linecolor": "white",
            "showbackground": true,
            "ticks": "",
            "zerolinecolor": "white"
           },
           "zaxis": {
            "backgroundcolor": "#E5ECF6",
            "gridcolor": "white",
            "gridwidth": 2,
            "linecolor": "white",
            "showbackground": true,
            "ticks": "",
            "zerolinecolor": "white"
           }
          },
          "shapedefaults": {
           "line": {
            "color": "#2a3f5f"
           }
          },
          "ternary": {
           "aaxis": {
            "gridcolor": "white",
            "linecolor": "white",
            "ticks": ""
           },
           "baxis": {
            "gridcolor": "white",
            "linecolor": "white",
            "ticks": ""
           },
           "bgcolor": "#E5ECF6",
           "caxis": {
            "gridcolor": "white",
            "linecolor": "white",
            "ticks": ""
           }
          },
          "title": {
           "x": 0.05
          },
          "xaxis": {
           "automargin": true,
           "gridcolor": "white",
           "linecolor": "white",
           "ticks": "",
           "title": {
            "standoff": 15
           },
           "zerolinecolor": "white",
           "zerolinewidth": 2
          },
          "yaxis": {
           "automargin": true,
           "gridcolor": "white",
           "linecolor": "white",
           "ticks": "",
           "title": {
            "standoff": 15
           },
           "zerolinecolor": "white",
           "zerolinewidth": 2
          }
         }
        },
        "title": {
         "text": "Distribution of Proposal Scores"
        },
        "xaxis": {
         "anchor": "y",
         "domain": [
          0,
          1
         ],
         "title": {
          "text": "Score Intervals"
         }
        },
        "yaxis": {
         "anchor": "x",
         "domain": [
          0,
          1
         ],
         "title": {
          "text": "Frequency"
         }
        }
       }
      }
     },
     "metadata": {},
     "output_type": "display_data"
    }
   ],
   "source": [
    "import plotly.express as px\n",
    "\n",
    "fig = px.histogram(data_model_df, x='Score', nbins=10, title='Distribution of Proposal Scores')\n",
    "fig.update_layout(xaxis_title='Score Intervals', yaxis_title='Frequency')\n",
    "fig.show()\n"
   ]
  },
  {
   "cell_type": "code",
   "execution_count": null,
   "metadata": {},
   "outputs": [],
   "source": []
  },
  {
   "cell_type": "code",
   "execution_count": null,
   "metadata": {},
   "outputs": [],
   "source": []
  },
  {
   "cell_type": "code",
   "execution_count": 46,
   "metadata": {},
   "outputs": [
    {
     "name": "stdout",
     "output_type": "stream",
     "text": [
      "                                          Address  Proposal Interaction  Score\n",
      "0      0x329c54289Ff5D6B7b7daE13592C6B1EDA1543eD4                   527    100\n",
      "1      0xB83b3e9C8E3393889Afb272D354A7a3Bd1Fbcf5C                   184    100\n",
      "2      0x13BDaE8c5F0fC40231F0E6A4ad70196F59138548                   151    100\n",
      "3      0xB933AEe47C438f22DE0747D57fc239FE37878Dd1                   307    100\n",
      "4      0x55B16934C3661E1990939bC57322554d9B09f262                    57    100\n",
      "...                                           ...                   ...    ...\n",
      "15891  0x480c409504F2f7F28592cB5A2bf40e663311780F                   250    100\n",
      "15892  0xE870B6Bc7362d3De6A5e87a85C766849B559dbc4                    12    100\n",
      "15893  0xa1381A006B3d6b0EbD16Bdb443cFafe630Bac7aA                   115    100\n",
      "15894  0x40D8de566d02958FF00BdA6351354054Ed73fB0C                    73    100\n",
      "15895  0x3066856Ed81B4F9C9C83F756c5a28c76bd8Ef4A3                    83    100\n",
      "\n",
      "[15896 rows x 3 columns]\n"
     ]
    }
   ],
   "source": [
    "import pandas as pd\n",
    "\n",
    "# Read the data from the CSV file\n",
    "data_file = './export (11).csv'\n",
    "df = pd.read_csv(data_file)\n",
    "\n",
    "# Define the intervals and corresponding scores\n",
    "intervals = [0, 1, 10]\n",
    "scores = [0, 55, 100]\n",
    "\n",
    "# Function to calculate the governance score based on the 'Proposal Interaction' value\n",
    "def calculate_score(total_proposals):\n",
    "    for i in range(len(intervals)):\n",
    "        if total_proposals <= intervals[i]:\n",
    "            return scores[i]\n",
    "    return scores[-1]\n",
    "\n",
    "# Create a list to store the scores\n",
    "scores_list = []\n",
    "\n",
    "# Iterate through the 'Proposal Interaction' column and calculate the scores\n",
    "for total_proposals in df['Proposal Interaction']:\n",
    "    score = calculate_score(total_proposals)\n",
    "    scores_list.append(score)\n",
    "\n",
    "# Add the scores to the DataFrame\n",
    "df['Score'] = scores_list\n",
    "\n",
    "# Create the data_model_df DataFrame with the required columns\n",
    "data_model_df = df[['Address', 'Proposal Interaction', 'Score']]\n",
    "\n",
    "# Display the resulting data model\n",
    "print(data_model_df)\n"
   ]
  },
  {
   "cell_type": "code",
   "execution_count": 39,
   "metadata": {},
   "outputs": [
    {
     "data": {
      "text/html": [
       "<div>\n",
       "<style scoped>\n",
       "    .dataframe tbody tr th:only-of-type {\n",
       "        vertical-align: middle;\n",
       "    }\n",
       "\n",
       "    .dataframe tbody tr th {\n",
       "        vertical-align: top;\n",
       "    }\n",
       "\n",
       "    .dataframe thead th {\n",
       "        text-align: right;\n",
       "    }\n",
       "</style>\n",
       "<table border=\"1\" class=\"dataframe\">\n",
       "  <thead>\n",
       "    <tr style=\"text-align: right;\">\n",
       "      <th></th>\n",
       "      <th>Address</th>\n",
       "      <th>Proposal Interaction</th>\n",
       "      <th>Score</th>\n",
       "    </tr>\n",
       "  </thead>\n",
       "  <tbody>\n",
       "    <tr>\n",
       "      <th>15891</th>\n",
       "      <td>0x480c409504F2f7F28592cB5A2bf40e663311780F</td>\n",
       "      <td>250</td>\n",
       "      <td>100</td>\n",
       "    </tr>\n",
       "    <tr>\n",
       "      <th>15892</th>\n",
       "      <td>0xE870B6Bc7362d3De6A5e87a85C766849B559dbc4</td>\n",
       "      <td>12</td>\n",
       "      <td>100</td>\n",
       "    </tr>\n",
       "    <tr>\n",
       "      <th>15893</th>\n",
       "      <td>0xa1381A006B3d6b0EbD16Bdb443cFafe630Bac7aA</td>\n",
       "      <td>115</td>\n",
       "      <td>100</td>\n",
       "    </tr>\n",
       "    <tr>\n",
       "      <th>15894</th>\n",
       "      <td>0x40D8de566d02958FF00BdA6351354054Ed73fB0C</td>\n",
       "      <td>73</td>\n",
       "      <td>100</td>\n",
       "    </tr>\n",
       "    <tr>\n",
       "      <th>15895</th>\n",
       "      <td>0x3066856Ed81B4F9C9C83F756c5a28c76bd8Ef4A3</td>\n",
       "      <td>83</td>\n",
       "      <td>100</td>\n",
       "    </tr>\n",
       "  </tbody>\n",
       "</table>\n",
       "</div>"
      ],
      "text/plain": [
       "                                          Address  Proposal Interaction  Score\n",
       "15891  0x480c409504F2f7F28592cB5A2bf40e663311780F                   250    100\n",
       "15892  0xE870B6Bc7362d3De6A5e87a85C766849B559dbc4                    12    100\n",
       "15893  0xa1381A006B3d6b0EbD16Bdb443cFafe630Bac7aA                   115    100\n",
       "15894  0x40D8de566d02958FF00BdA6351354054Ed73fB0C                    73    100\n",
       "15895  0x3066856Ed81B4F9C9C83F756c5a28c76bd8Ef4A3                    83    100"
      ]
     },
     "execution_count": 39,
     "metadata": {},
     "output_type": "execute_result"
    }
   ],
   "source": [
    "\n",
    "data_model_df.tail()"
   ]
  },
  {
   "cell_type": "code",
   "execution_count": 47,
   "metadata": {},
   "outputs": [
    {
     "name": "stdout",
     "output_type": "stream",
     "text": [
      "                                        Address  Proposal_Creation  Score\n",
      "0    0xc290Cfb8D020c0615e9C63036f4319Cc41717E68                 55    100\n",
      "1    0x329c54289Ff5D6B7b7daE13592C6B1EDA1543eD4                 50    100\n",
      "2    0xDD659911EcBD4458db07Ee7cDdeC79bf8F859AbC                 34    100\n",
      "3    0x16645967f660AC05EA542D3DE2f46E41b86436d9                 19    100\n",
      "4    0x62a43123FE71f9764f26554b3F5017627996816a                 12    100\n",
      "..                                          ...                ...    ...\n",
      "109  0x89261103FA88a913c8D0dEbD00574FD16895407D                  1    100\n",
      "110  0x9f856fC3e2ea6D2ef7b1f030D4A8BF34556eAc5d                  1    100\n",
      "111  0xe965484BA4250c446779D4703f1598DC2EA00d12                  1    100\n",
      "112  0xa48168C3D73De7B4Fed96383E2BeF8e53443A263                  1    100\n",
      "113  0xc8E0345596D7196941E61D3aB607E57Fe61F85E7                  1    100\n",
      "\n",
      "[114 rows x 3 columns]\n"
     ]
    }
   ],
   "source": [
    "import json\n",
    "import pandas as pd\n",
    "\n",
    "# Read the JSON data from the file\n",
    "with open('./totalProposalsMadeByUser.json', 'r') as json_file:\n",
    "    data = json.load(json_file)\n",
    "\n",
    "# Define the intervals and corresponding scores\n",
    "intervals = [0, 1]\n",
    "scores = [0, 100]\n",
    "\n",
    "# Create lists to store the address, proposal_creations, and scores\n",
    "addresses = []\n",
    "proposal_creations_list = []\n",
    "scores_list = []\n",
    "\n",
    "# Iterate through the JSON data and extract the address, proposal_creations, and calculate the score\n",
    "for address, proposal_creations in data.items():\n",
    "    addresses.append(address)\n",
    "    proposal_creations_list.append(proposal_creations)\n",
    "\n",
    "    # Check the interval and assign the score accordingly\n",
    "    if proposal_creations == 0:\n",
    "        score = scores[0]\n",
    "    else:\n",
    "        score = scores[1]\n",
    "    scores_list.append(score)\n",
    "\n",
    "# Create a DataFrame with the address, proposal_creations, and score\n",
    "data_model_df2 = pd.DataFrame({\n",
    "    'Address': addresses,\n",
    "    'Proposal_Creation': proposal_creations_list,\n",
    "    'Score': scores_list\n",
    "})\n",
    "\n",
    "# Display the resulting data model\n",
    "print(data_model_df2)\n"
   ]
  },
  {
   "cell_type": "code",
   "execution_count": 48,
   "metadata": {},
   "outputs": [
    {
     "name": "stdout",
     "output_type": "stream",
     "text": [
      "                                       Address  Proposal Interaction  \\\n",
      "0   0x329c54289Ff5D6B7b7daE13592C6B1EDA1543eD4                   527   \n",
      "1   0xB83b3e9C8E3393889Afb272D354A7a3Bd1Fbcf5C                   184   \n",
      "2   0x13BDaE8c5F0fC40231F0E6A4ad70196F59138548                   151   \n",
      "3   0xc17cB209D5aBdb2d00f566a1E48F558DEBC264E1                    25   \n",
      "4   0x16645967f660AC05EA542D3DE2f46E41b86436d9                    72   \n",
      "..                                         ...                   ...   \n",
      "58  0x0cA59AC8103081894D1D0Ad52dcDF83797111b1c                     1   \n",
      "59  0x4C026d5D6A7fe1B2e2B28B916Ef2016f6058F7B4                     6   \n",
      "60  0x34678d8c67d86afe6f478daC8c5595fF77aaB4a2                     2   \n",
      "61  0xd200790f62c8da69973e61d4936cfE4f356ccD07                     1   \n",
      "62  0xc8E0345596D7196941E61D3aB607E57Fe61F85E7                     5   \n",
      "\n",
      "    Proposal_Creation  Score  \n",
      "0                  50    200  \n",
      "1                   2    200  \n",
      "2                   1    200  \n",
      "3                   1    200  \n",
      "4                  19    200  \n",
      "..                ...    ...  \n",
      "58                  1    155  \n",
      "59                  1    200  \n",
      "60                  1    200  \n",
      "61                  1    155  \n",
      "62                  1    200  \n",
      "\n",
      "[63 rows x 4 columns]\n"
     ]
    }
   ],
   "source": [
    "\n",
    "import pandas as pd\n",
    "\n",
    "# Assuming you have data_model_df and data_model_df2 as two dataframes\n",
    "\n",
    "# Merge the two dataframes on 'Address' column\n",
    "merged_df = pd.merge(data_model_df, data_model_df2, on='Address')\n",
    "\n",
    "# Add the values from 'Score_x' and 'Score_y' columns to create a new 'Score' column\n",
    "merged_df['Score'] = merged_df['Score_x'] + merged_df['Score_y']\n",
    "\n",
    "# Drop the individual 'Score_x' and 'Score_y' columns\n",
    "merged_df = merged_df.drop(columns=['Score_x', 'Score_y'])\n",
    "\n",
    "# Display the resulting merged dataframe\n",
    "print(merged_df)\n"
   ]
  },
  {
   "cell_type": "code",
   "execution_count": 49,
   "metadata": {},
   "outputs": [
    {
     "data": {
      "text/html": [
       "<div>\n",
       "<style scoped>\n",
       "    .dataframe tbody tr th:only-of-type {\n",
       "        vertical-align: middle;\n",
       "    }\n",
       "\n",
       "    .dataframe tbody tr th {\n",
       "        vertical-align: top;\n",
       "    }\n",
       "\n",
       "    .dataframe thead th {\n",
       "        text-align: right;\n",
       "    }\n",
       "</style>\n",
       "<table border=\"1\" class=\"dataframe\">\n",
       "  <thead>\n",
       "    <tr style=\"text-align: right;\">\n",
       "      <th></th>\n",
       "      <th>Address</th>\n",
       "      <th>Proposal Interaction</th>\n",
       "      <th>Proposal_Creation</th>\n",
       "      <th>Score</th>\n",
       "    </tr>\n",
       "  </thead>\n",
       "  <tbody>\n",
       "    <tr>\n",
       "      <th>0</th>\n",
       "      <td>0x329c54289Ff5D6B7b7daE13592C6B1EDA1543eD4</td>\n",
       "      <td>527</td>\n",
       "      <td>50</td>\n",
       "      <td>200</td>\n",
       "    </tr>\n",
       "    <tr>\n",
       "      <th>1</th>\n",
       "      <td>0xB83b3e9C8E3393889Afb272D354A7a3Bd1Fbcf5C</td>\n",
       "      <td>184</td>\n",
       "      <td>2</td>\n",
       "      <td>200</td>\n",
       "    </tr>\n",
       "    <tr>\n",
       "      <th>2</th>\n",
       "      <td>0x13BDaE8c5F0fC40231F0E6A4ad70196F59138548</td>\n",
       "      <td>151</td>\n",
       "      <td>1</td>\n",
       "      <td>200</td>\n",
       "    </tr>\n",
       "    <tr>\n",
       "      <th>3</th>\n",
       "      <td>0xc17cB209D5aBdb2d00f566a1E48F558DEBC264E1</td>\n",
       "      <td>25</td>\n",
       "      <td>1</td>\n",
       "      <td>200</td>\n",
       "    </tr>\n",
       "    <tr>\n",
       "      <th>4</th>\n",
       "      <td>0x16645967f660AC05EA542D3DE2f46E41b86436d9</td>\n",
       "      <td>72</td>\n",
       "      <td>19</td>\n",
       "      <td>200</td>\n",
       "    </tr>\n",
       "  </tbody>\n",
       "</table>\n",
       "</div>"
      ],
      "text/plain": [
       "                                      Address  Proposal Interaction  \\\n",
       "0  0x329c54289Ff5D6B7b7daE13592C6B1EDA1543eD4                   527   \n",
       "1  0xB83b3e9C8E3393889Afb272D354A7a3Bd1Fbcf5C                   184   \n",
       "2  0x13BDaE8c5F0fC40231F0E6A4ad70196F59138548                   151   \n",
       "3  0xc17cB209D5aBdb2d00f566a1E48F558DEBC264E1                    25   \n",
       "4  0x16645967f660AC05EA542D3DE2f46E41b86436d9                    72   \n",
       "\n",
       "   Proposal_Creation  Score  \n",
       "0                 50    200  \n",
       "1                  2    200  \n",
       "2                  1    200  \n",
       "3                  1    200  \n",
       "4                 19    200  "
      ]
     },
     "execution_count": 49,
     "metadata": {},
     "output_type": "execute_result"
    }
   ],
   "source": [
    "merged_df.head()"
   ]
  },
  {
   "cell_type": "code",
   "execution_count": 50,
   "metadata": {},
   "outputs": [
    {
     "data": {
      "text/html": [
       "<div>\n",
       "<style scoped>\n",
       "    .dataframe tbody tr th:only-of-type {\n",
       "        vertical-align: middle;\n",
       "    }\n",
       "\n",
       "    .dataframe tbody tr th {\n",
       "        vertical-align: top;\n",
       "    }\n",
       "\n",
       "    .dataframe thead th {\n",
       "        text-align: right;\n",
       "    }\n",
       "</style>\n",
       "<table border=\"1\" class=\"dataframe\">\n",
       "  <thead>\n",
       "    <tr style=\"text-align: right;\">\n",
       "      <th></th>\n",
       "      <th>Address</th>\n",
       "      <th>Name</th>\n",
       "      <th>Is delegator</th>\n",
       "      <th>Avatar</th>\n",
       "      <th>Space</th>\n",
       "      <th>Ens name</th>\n",
       "      <th>Follow Count</th>\n",
       "      <th>Follows Space</th>\n",
       "      <th>Total Votes</th>\n",
       "      <th>Proposal Interaction</th>\n",
       "      <th>Proposal Interaction In Space</th>\n",
       "      <th>Proposal Interaction outside of Space</th>\n",
       "      <th>Total NFT`s</th>\n",
       "      <th>Total Rewards NFT`s</th>\n",
       "      <th>User is delegator</th>\n",
       "      <th>Score</th>\n",
       "    </tr>\n",
       "  </thead>\n",
       "  <tbody>\n",
       "    <tr>\n",
       "      <th>0</th>\n",
       "      <td>0x329c54289Ff5D6B7b7daE13592C6B1EDA1543eD4</td>\n",
       "      <td>NaN</td>\n",
       "      <td>0</td>\n",
       "      <td>NaN</td>\n",
       "      <td>aave.eth</td>\n",
       "      <td>aavechan.eth</td>\n",
       "      <td>7</td>\n",
       "      <td>1</td>\n",
       "      <td>3.392825e+07</td>\n",
       "      <td>527</td>\n",
       "      <td>256</td>\n",
       "      <td>271</td>\n",
       "      <td>1</td>\n",
       "      <td>0</td>\n",
       "      <td>0</td>\n",
       "      <td>100</td>\n",
       "    </tr>\n",
       "    <tr>\n",
       "      <th>1</th>\n",
       "      <td>0xB83b3e9C8E3393889Afb272D354A7a3Bd1Fbcf5C</td>\n",
       "      <td>NaN</td>\n",
       "      <td>0</td>\n",
       "      <td>NaN</td>\n",
       "      <td>aave.eth</td>\n",
       "      <td>lbsblockchain.eth</td>\n",
       "      <td>1</td>\n",
       "      <td>1</td>\n",
       "      <td>1.485489e+07</td>\n",
       "      <td>184</td>\n",
       "      <td>184</td>\n",
       "      <td>0</td>\n",
       "      <td>0</td>\n",
       "      <td>0</td>\n",
       "      <td>0</td>\n",
       "      <td>100</td>\n",
       "    </tr>\n",
       "    <tr>\n",
       "      <th>2</th>\n",
       "      <td>0x13BDaE8c5F0fC40231F0E6A4ad70196F59138548</td>\n",
       "      <td>NaN</td>\n",
       "      <td>0</td>\n",
       "      <td>NaN</td>\n",
       "      <td>aave.eth</td>\n",
       "      <td>michiganblockchain.eth</td>\n",
       "      <td>2</td>\n",
       "      <td>1</td>\n",
       "      <td>7.785688e+06</td>\n",
       "      <td>151</td>\n",
       "      <td>96</td>\n",
       "      <td>55</td>\n",
       "      <td>0</td>\n",
       "      <td>0</td>\n",
       "      <td>0</td>\n",
       "      <td>100</td>\n",
       "    </tr>\n",
       "    <tr>\n",
       "      <th>3</th>\n",
       "      <td>0xB933AEe47C438f22DE0747D57fc239FE37878Dd1</td>\n",
       "      <td>NaN</td>\n",
       "      <td>0</td>\n",
       "      <td>NaN</td>\n",
       "      <td>aave.eth</td>\n",
       "      <td>wintermutegovernance.eth</td>\n",
       "      <td>17</td>\n",
       "      <td>1</td>\n",
       "      <td>6.334191e+06</td>\n",
       "      <td>307</td>\n",
       "      <td>151</td>\n",
       "      <td>156</td>\n",
       "      <td>23</td>\n",
       "      <td>0</td>\n",
       "      <td>0</td>\n",
       "      <td>100</td>\n",
       "    </tr>\n",
       "    <tr>\n",
       "      <th>4</th>\n",
       "      <td>0x55B16934C3661E1990939bC57322554d9B09f262</td>\n",
       "      <td>Llama Proposal Power</td>\n",
       "      <td>0</td>\n",
       "      <td>ipfs://bafkreidlvzco3qpbpwir5xmln4zygbyxtcfixn...</td>\n",
       "      <td>aave.eth</td>\n",
       "      <td>NaN</td>\n",
       "      <td>2</td>\n",
       "      <td>1</td>\n",
       "      <td>3.722838e+06</td>\n",
       "      <td>57</td>\n",
       "      <td>57</td>\n",
       "      <td>0</td>\n",
       "      <td>0</td>\n",
       "      <td>0</td>\n",
       "      <td>0</td>\n",
       "      <td>100</td>\n",
       "    </tr>\n",
       "  </tbody>\n",
       "</table>\n",
       "</div>"
      ],
      "text/plain": [
       "                                      Address                  Name  \\\n",
       "0  0x329c54289Ff5D6B7b7daE13592C6B1EDA1543eD4                   NaN   \n",
       "1  0xB83b3e9C8E3393889Afb272D354A7a3Bd1Fbcf5C                   NaN   \n",
       "2  0x13BDaE8c5F0fC40231F0E6A4ad70196F59138548                   NaN   \n",
       "3  0xB933AEe47C438f22DE0747D57fc239FE37878Dd1                   NaN   \n",
       "4  0x55B16934C3661E1990939bC57322554d9B09f262  Llama Proposal Power   \n",
       "\n",
       "   Is delegator                                             Avatar     Space  \\\n",
       "0             0                                                NaN  aave.eth   \n",
       "1             0                                                NaN  aave.eth   \n",
       "2             0                                                NaN  aave.eth   \n",
       "3             0                                                NaN  aave.eth   \n",
       "4             0  ipfs://bafkreidlvzco3qpbpwir5xmln4zygbyxtcfixn...  aave.eth   \n",
       "\n",
       "                   Ens name  Follow Count  Follows Space   Total Votes  \\\n",
       "0              aavechan.eth             7              1  3.392825e+07   \n",
       "1         lbsblockchain.eth             1              1  1.485489e+07   \n",
       "2    michiganblockchain.eth             2              1  7.785688e+06   \n",
       "3  wintermutegovernance.eth            17              1  6.334191e+06   \n",
       "4                       NaN             2              1  3.722838e+06   \n",
       "\n",
       "   Proposal Interaction  Proposal Interaction In Space  \\\n",
       "0                   527                            256   \n",
       "1                   184                            184   \n",
       "2                   151                             96   \n",
       "3                   307                            151   \n",
       "4                    57                             57   \n",
       "\n",
       "   Proposal Interaction outside of Space  Total NFT`s  Total Rewards NFT`s  \\\n",
       "0                                    271            1                    0   \n",
       "1                                      0            0                    0   \n",
       "2                                     55            0                    0   \n",
       "3                                    156           23                    0   \n",
       "4                                      0            0                    0   \n",
       "\n",
       "   User is delegator  Score  \n",
       "0                  0    100  \n",
       "1                  0    100  \n",
       "2                  0    100  \n",
       "3                  0    100  \n",
       "4                  0    100  "
      ]
     },
     "execution_count": 50,
     "metadata": {},
     "output_type": "execute_result"
    }
   ],
   "source": [
    "\n",
    "df.head()"
   ]
  },
  {
   "cell_type": "code",
   "execution_count": 51,
   "metadata": {},
   "outputs": [
    {
     "name": "stdout",
     "output_type": "stream",
     "text": [
      "                                          Address  \\\n",
      "0      0x329c54289Ff5D6B7b7daE13592C6B1EDA1543eD4   \n",
      "1      0xB83b3e9C8E3393889Afb272D354A7a3Bd1Fbcf5C   \n",
      "2      0x13BDaE8c5F0fC40231F0E6A4ad70196F59138548   \n",
      "3      0xB933AEe47C438f22DE0747D57fc239FE37878Dd1   \n",
      "4      0x55B16934C3661E1990939bC57322554d9B09f262   \n",
      "...                                           ...   \n",
      "15891  0x480c409504F2f7F28592cB5A2bf40e663311780F   \n",
      "15892  0xE870B6Bc7362d3De6A5e87a85C766849B559dbc4   \n",
      "15893  0xa1381A006B3d6b0EbD16Bdb443cFafe630Bac7aA   \n",
      "15894  0x40D8de566d02958FF00BdA6351354054Ed73fB0C   \n",
      "15895  0x3066856Ed81B4F9C9C83F756c5a28c76bd8Ef4A3   \n",
      "\n",
      "       Proposal Interaction in space  Score  \n",
      "0                                256    100  \n",
      "1                                184    100  \n",
      "2                                 96    100  \n",
      "3                                151    100  \n",
      "4                                 57    100  \n",
      "...                              ...    ...  \n",
      "15891                             98    100  \n",
      "15892                              8    100  \n",
      "15893                             35    100  \n",
      "15894                             38    100  \n",
      "15895                             16    100  \n",
      "\n",
      "[15896 rows x 3 columns]\n"
     ]
    }
   ],
   "source": [
    "\n",
    "import pandas as pd\n",
    "import json\n",
    "\n",
    "data_file = './export (11).csv'\n",
    "df = pd.read_csv(data_file)\n",
    "intervals = [0, 1, 10]\n",
    "scores = [0, 55, 100]\n",
    "\n",
    "def calculate_score(total_proposals):\n",
    "    for i in range(len(intervals)):\n",
    "        if total_proposals <= intervals[i]:\n",
    "            return scores[i]\n",
    "    return scores[-1]\n",
    "scores_list = []\n",
    "for total_proposals in df['Proposal Interaction In Space']:\n",
    "    score = calculate_score(total_proposals)\n",
    "    scores_list.append(score)\n",
    "data_model_df = pd.DataFrame({\n",
    "    'Address': df['Address'],\n",
    "    'Proposal Interaction in space': df['Proposal Interaction In Space'],\n",
    "    'Score': scores_list\n",
    "})\n",
    "with open('./totalProposalsMadeByUser.json', 'r') as json_file:\n",
    "    data = json.load(json_file)\n",
    "intervals = [0, 1]\n",
    "scores = [0, 100]\n",
    "addresses = []\n",
    "proposal_creations_list = []\n",
    "scores_list = []\n",
    "for address, proposal_creations in data.items():\n",
    "    addresses.append(address)\n",
    "    proposal_creations_list.append(proposal_creations)\n",
    "    if proposal_creations == 0:\n",
    "        score = scores[0]\n",
    "    else:\n",
    "        score = scores[1]\n",
    "    scores_list.append(score)\n",
    "data_model_df2 = pd.DataFrame({\n",
    "    'Address': addresses,\n",
    "    'Proposal_Creation': proposal_creations_list,\n",
    "    'Score': scores_list\n",
    "})\n",
    "\n",
    "merged_df = pd.merge(data_model_df, data_model_df2, on='Address')\n",
    "merged_df['Score'] = merged_df['Score_x'] + merged_df['Score_y']\n",
    "merged_df = merged_df.drop(columns=['Score_x', 'Score_y'])\n",
    "merged_df[\"Gov reward\"] = (merged_df[\"Score\"]/200) * 100\n",
    "merged_df.head()\n",
    "\n",
    "\n",
    "\n"
   ]
  },
  {
   "cell_type": "code",
   "execution_count": 52,
   "metadata": {},
   "outputs": [
    {
     "data": {
      "text/plain": [
       "328"
      ]
     },
     "execution_count": 52,
     "metadata": {},
     "output_type": "execute_result"
    }
   ],
   "source": [
    "\n",
    "data_model_df['Proposal Interaction in space'].max()"
   ]
  },
  {
   "cell_type": "code",
   "execution_count": 55,
   "metadata": {},
   "outputs": [
    {
     "name": "stdout",
     "output_type": "stream",
     "text": [
      "                                          Address  \\\n",
      "0      0x329c54289Ff5D6B7b7daE13592C6B1EDA1543eD4   \n",
      "1      0xB83b3e9C8E3393889Afb272D354A7a3Bd1Fbcf5C   \n",
      "2      0x13BDaE8c5F0fC40231F0E6A4ad70196F59138548   \n",
      "3      0xB933AEe47C438f22DE0747D57fc239FE37878Dd1   \n",
      "4      0x55B16934C3661E1990939bC57322554d9B09f262   \n",
      "...                                           ...   \n",
      "15942  0x1572A9bb16a624BD9748C0F365c55935b91AeFbF   \n",
      "15943  0xd333Bc5c9670C9cEb18f9A2CF02C6E86807a8227   \n",
      "15944  0xdAe2Ad9B0Df4397BbAFCDD3EABb15FCA627A1Be6   \n",
      "15945  0xe965484BA4250c446779D4703f1598DC2EA00d12   \n",
      "15946  0xa48168C3D73De7B4Fed96383E2BeF8e53443A263   \n",
      "\n",
      "       Proposal Interaction in space  Proposal_Creation  Score  \n",
      "0                                256                 50    200  \n",
      "1                                184                  2    200  \n",
      "2                                 96                  1    200  \n",
      "3                                151                  0    100  \n",
      "4                                 57                  0    100  \n",
      "...                              ...                ...    ...  \n",
      "15942                              0                  1    100  \n",
      "15943                              0                  1    100  \n",
      "15944                              0                  1    100  \n",
      "15945                              0                  1    100  \n",
      "15946                              0                  1    100  \n",
      "\n",
      "[15947 rows x 4 columns]\n"
     ]
    }
   ],
   "source": [
    "\n",
    "merged_df = pd.merge(data_model_df, data_model_df2, on='Address', how='outer')\n",
    "merged_df['Score_x'] = merged_df['Score_x'].fillna(0)\n",
    "merged_df['Score_y'] = merged_df['Score_y'].fillna(0)\n",
    "merged_df['Score'] = merged_df['Score_x'] + merged_df['Score_y']\n",
    "merged_df = merged_df.drop(columns=['Score_x', 'Score_y'])\n",
    "merged_df = merged_df.fillna(0)\n",
    "merged_df['Proposal Interaction in space'] = merged_df['Proposal Interaction in space'].astype(int)\n",
    "merged_df['Proposal_Creation'] = merged_df['Proposal_Creation'].astype(int)\n",
    "merged_df['Score'] = merged_df['Score'].astype(int)\n",
    "\n"
   ]
  },
  {
   "cell_type": "code",
   "execution_count": 56,
   "metadata": {},
   "outputs": [
    {
     "data": {
      "text/plain": [
       "328"
      ]
     },
     "execution_count": 56,
     "metadata": {},
     "output_type": "execute_result"
    }
   ],
   "source": [
    "\n",
    "merged_df['Proposal Interaction in space'].max()"
   ]
  },
  {
   "cell_type": "code",
   "execution_count": 57,
   "metadata": {},
   "outputs": [
    {
     "data": {
      "text/html": [
       "<div>\n",
       "<style scoped>\n",
       "    .dataframe tbody tr th:only-of-type {\n",
       "        vertical-align: middle;\n",
       "    }\n",
       "\n",
       "    .dataframe tbody tr th {\n",
       "        vertical-align: top;\n",
       "    }\n",
       "\n",
       "    .dataframe thead th {\n",
       "        text-align: right;\n",
       "    }\n",
       "</style>\n",
       "<table border=\"1\" class=\"dataframe\">\n",
       "  <thead>\n",
       "    <tr style=\"text-align: right;\">\n",
       "      <th></th>\n",
       "      <th>Address</th>\n",
       "      <th>Proposal Interaction in space</th>\n",
       "      <th>Proposal_Creation</th>\n",
       "      <th>Score</th>\n",
       "    </tr>\n",
       "  </thead>\n",
       "  <tbody>\n",
       "  </tbody>\n",
       "</table>\n",
       "</div>"
      ],
      "text/plain": [
       "Empty DataFrame\n",
       "Columns: [Address, Proposal Interaction in space, Proposal_Creation, Score]\n",
       "Index: []"
      ]
     },
     "execution_count": 57,
     "metadata": {},
     "output_type": "execute_result"
    }
   ],
   "source": [
    "merged_df[merged_df['Address']=='Oxea172676E4105e92Cc52DBf45fD93b274eC96676']"
   ]
  },
  {
   "cell_type": "code",
   "execution_count": 58,
   "metadata": {},
   "outputs": [
    {
     "ename": "AttributeError",
     "evalue": "'dict' object has no attribute 'head'",
     "output_type": "error",
     "traceback": [
      "\u001b[0;31m---------------------------------------------------------------------------\u001b[0m",
      "\u001b[0;31mAttributeError\u001b[0m                            Traceback (most recent call last)",
      "\u001b[0;32m/var/folders/yc/x90wh_kn09v92yybd6xj3p4h0000gn/T/ipykernel_4100/3870928973.py\u001b[0m in \u001b[0;36m<module>\u001b[0;34m\u001b[0m\n\u001b[0;32m----> 1\u001b[0;31m \u001b[0mdata\u001b[0m\u001b[0;34m.\u001b[0m\u001b[0mhead\u001b[0m\u001b[0;34m(\u001b[0m\u001b[0;34m)\u001b[0m\u001b[0;34m\u001b[0m\u001b[0;34m\u001b[0m\u001b[0m\n\u001b[0m",
      "\u001b[0;31mAttributeError\u001b[0m: 'dict' object has no attribute 'head'"
     ]
    }
   ],
   "source": []
  },
  {
   "cell_type": "code",
   "execution_count": null,
   "metadata": {},
   "outputs": [],
   "source": []
  }
 ],
 "metadata": {
  "kernelspec": {
   "display_name": "base",
   "language": "python",
   "name": "python3"
  },
  "language_info": {
   "codemirror_mode": {
    "name": "ipython",
    "version": 3
   },
   "file_extension": ".py",
   "mimetype": "text/x-python",
   "name": "python",
   "nbconvert_exporter": "python",
   "pygments_lexer": "ipython3",
   "version": "3.9.13"
  },
  "orig_nbformat": 4
 },
 "nbformat": 4,
 "nbformat_minor": 2
}
